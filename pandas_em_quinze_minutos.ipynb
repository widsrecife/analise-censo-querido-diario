{
  "nbformat": 4,
  "nbformat_minor": 0,
  "metadata": {
    "colab": {
      "name": "pandas-em-quinze-minutos.ipynb",
      "provenance": [],
      "collapsed_sections": [
        "8ObBpbhnjT8Y",
        "Q9q8mcbF0J7A"
      ]
    },
    "kernelspec": {
      "name": "python3",
      "display_name": "Python 3"
    },
    "language_info": {
      "name": "python"
    }
  },
  "cells": [
    {
      "cell_type": "markdown",
      "metadata": {
        "id": "mqUpj9kHp_0s"
      },
      "source": [
        "# Pandas em 15 minutos\n",
        "\n",
        "Esta é uma pequena introdução à biblioteca [`pandas`](https://pandas.pydata.org/) para novas usuárias. \n",
        "\n",
        "> **Nota**\n",
        "> \n",
        "> Este tutorial é baseado na documentação oficial (versão 1.2.3, Python 3.7). Para um início um pouco mais aprofundado recomendamos:\n",
        "> - [Getting started tutorials](https://pandas.pydata.org/pandas-docs/stable/getting_started/intro_tutorials/index.html)\n",
        "> - [10 minutes to pandas](https://pandas.pydata.org/pandas-docs/stable/user_guide/10min.html)\n",
        "> - [Cookbook](https://pandas.pydata.org/pandas-docs/stable/user_guide/cookbook.html)\n",
        ">\n",
        "> E para a referência técnica dos métodos e funções apresentadas aqui:\n",
        "> - [API reference](https://pandas.pydata.org/pandas-docs/stable/reference/index.html)\n"
      ]
    },
    {
      "cell_type": "markdown",
      "metadata": {
        "id": "IXnUCQaFz9kg"
      },
      "source": [
        "\n",
        "## O que é pandas?\n",
        "\n",
        "É uma biblioteca que oferece diversas ferramentas para análise de dados. Um canivete suíço para quem quer começar a deixar as planilhas de lado e começar a analisar dados programaticamente.\n"
      ]
    },
    {
      "cell_type": "markdown",
      "metadata": {
        "id": "alKLrEZj0AT4"
      },
      "source": [
        "## Como eu normalmente trabalho com os dados?\n"
      ]
    },
    {
      "cell_type": "markdown",
      "metadata": {
        "id": "Bfg9JpBi0gXW"
      },
      "source": [
        "\n",
        "Primeiro, importando a biblioteca :)"
      ]
    },
    {
      "cell_type": "code",
      "metadata": {
        "id": "WaEDGUK7ptv9"
      },
      "source": [
        "import pandas as pd"
      ],
      "execution_count": null,
      "outputs": []
    },
    {
      "cell_type": "markdown",
      "metadata": {
        "id": "Ren2aBdr0o8O"
      },
      "source": [
        "O apelido `pd` é uma convenção 😄.\n",
        "\n",
        "A biblioteca introduz dois tipos principais de estruturas de dados: `DataFrame` e `Series`.\n"
      ]
    },
    {
      "cell_type": "markdown",
      "metadata": {
        "id": "8ObBpbhnjT8Y"
      },
      "source": [
        "\n",
        "### `DataFrame`\n",
        "\n",
        "![dataframe](https://pandas.pydata.org/pandas-docs/stable/_images/01_table_dataframe.svg)*Seção \"Getting started\" (What kind of data does pandas handle?)*\n",
        "\n",
        "Um `DataFrame` uma espécie de planilha, com linhas, colunas e índices. Pra quem estiver acostumado com planilhas fica fácil de entender.\n"
      ]
    },
    {
      "cell_type": "markdown",
      "metadata": {
        "id": "CAqmWun50Z_n"
      },
      "source": [
        "\n",
        "De toda forma, vamos demonstrar:"
      ]
    },
    {
      "cell_type": "code",
      "metadata": {
        "colab": {
          "base_uri": "https://localhost:8080/"
        },
        "id": "Dc8xIBZyjL6s",
        "outputId": "5feeb0c2-4d9c-4d9b-95da-9a90b5bf115f"
      },
      "source": [
        "df = pd.DataFrame(\n",
        "    [\n",
        "        {\"Nome\": \"Mônica de Sousa\", \"Idade\": 7},\n",
        "        {\"Nome\": \"Cebolácio Menezes da Silva Júnior\", \"Idade\": 7},\n",
        "        {\"Nome\": \"Magali Fernandes de Lima\", \"Idade\": 7},\n",
        "        {\"Nome\": \"Cássio Marques de Araújo\", \"Idade\": 7},\n",
        "    ]\n",
        ")\n",
        "df"
      ],
      "execution_count": null,
      "outputs": [
        {
          "output_type": "execute_result",
          "data": {
            "text/html": [
              "<div>\n",
              "<style scoped>\n",
              "    .dataframe tbody tr th:only-of-type {\n",
              "        vertical-align: middle;\n",
              "    }\n",
              "\n",
              "    .dataframe tbody tr th {\n",
              "        vertical-align: top;\n",
              "    }\n",
              "\n",
              "    .dataframe thead th {\n",
              "        text-align: right;\n",
              "    }\n",
              "</style>\n",
              "<table border=\"1\" class=\"dataframe\">\n",
              "  <thead>\n",
              "    <tr style=\"text-align: right;\">\n",
              "      <th></th>\n",
              "      <th>Nome</th>\n",
              "      <th>Idade</th>\n",
              "    </tr>\n",
              "  </thead>\n",
              "  <tbody>\n",
              "    <tr>\n",
              "      <th>0</th>\n",
              "      <td>Mônica de Sousa</td>\n",
              "      <td>7</td>\n",
              "    </tr>\n",
              "    <tr>\n",
              "      <th>1</th>\n",
              "      <td>Cebolácio Menezes da Silva Júnior</td>\n",
              "      <td>7</td>\n",
              "    </tr>\n",
              "    <tr>\n",
              "      <th>2</th>\n",
              "      <td>Magali Fernandes de Lima</td>\n",
              "      <td>7</td>\n",
              "    </tr>\n",
              "    <tr>\n",
              "      <th>3</th>\n",
              "      <td>Cássio Marques de Araújo</td>\n",
              "      <td>7</td>\n",
              "    </tr>\n",
              "  </tbody>\n",
              "</table>\n",
              "</div>"
            ],
            "text/plain": [
              "                                Nome  Idade\n",
              "0                    Mônica de Sousa      7\n",
              "1  Cebolácio Menezes da Silva Júnior      7\n",
              "2           Magali Fernandes de Lima      7\n",
              "3           Cássio Marques de Araújo      7"
            ]
          },
          "metadata": {
            "tags": []
          },
          "execution_count": 2
        }
      ]
    },
    {
      "cell_type": "markdown",
      "metadata": {
        "id": "Q7S8-Tntm3ri"
      },
      "source": [
        "Através de alguns atributos do `DataFrame`, conseguimos ver que ele possui 4 linhas (com índice numérico de 0 a 3) e 2 colunas (com índice categórico \"Nome\" e \"Idade\"):\n"
      ]
    },
    {
      "cell_type": "code",
      "metadata": {
        "colab": {
          "base_uri": "https://localhost:8080/"
        },
        "id": "dZeERi2iDCqP",
        "outputId": "af4cf6a0-ae70-4de6-b069-4e6f9dd8ef71"
      },
      "source": [
        "df.shape"
      ],
      "execution_count": null,
      "outputs": [
        {
          "output_type": "execute_result",
          "data": {
            "text/plain": [
              "(4, 2)"
            ]
          },
          "metadata": {
            "tags": []
          },
          "execution_count": 3
        }
      ]
    },
    {
      "cell_type": "code",
      "metadata": {
        "colab": {
          "base_uri": "https://localhost:8080/"
        },
        "id": "Ra9qISshrUs1",
        "outputId": "cafce624-8b0a-4196-a087-a03fd9df71c9"
      },
      "source": [
        "df.index"
      ],
      "execution_count": null,
      "outputs": [
        {
          "output_type": "execute_result",
          "data": {
            "text/plain": [
              "RangeIndex(start=0, stop=4, step=1)"
            ]
          },
          "metadata": {
            "tags": []
          },
          "execution_count": 4
        }
      ]
    },
    {
      "cell_type": "code",
      "metadata": {
        "colab": {
          "base_uri": "https://localhost:8080/"
        },
        "id": "G2jOWwgYrb6p",
        "outputId": "14ad4b14-5d91-4cad-d3f7-d1ab245e4f14"
      },
      "source": [
        "df.columns"
      ],
      "execution_count": null,
      "outputs": [
        {
          "output_type": "execute_result",
          "data": {
            "text/plain": [
              "Index(['Nome', 'Idade'], dtype='object')"
            ]
          },
          "metadata": {
            "tags": []
          },
          "execution_count": 5
        }
      ]
    },
    {
      "cell_type": "markdown",
      "metadata": {
        "id": "h3zTQLNvrVIz"
      },
      "source": [
        "Para ver quais tipos de dados estamos lidando, `pandas` oferece um método bem prático:\n"
      ]
    },
    {
      "cell_type": "code",
      "metadata": {
        "colab": {
          "base_uri": "https://localhost:8080/"
        },
        "id": "MrvJOxC4r7qP",
        "outputId": "8ffbaae8-f9e3-4609-f0ba-59feeb05586d"
      },
      "source": [
        "df.info()"
      ],
      "execution_count": null,
      "outputs": [
        {
          "output_type": "stream",
          "text": [
            "<class 'pandas.core.frame.DataFrame'>\n",
            "RangeIndex: 4 entries, 0 to 3\n",
            "Data columns (total 2 columns):\n",
            " #   Column  Non-Null Count  Dtype \n",
            "---  ------  --------------  ----- \n",
            " 0   Nome    4 non-null      object\n",
            " 1   Idade   4 non-null      int64 \n",
            "dtypes: int64(1), object(1)\n",
            "memory usage: 192.0+ bytes\n"
          ],
          "name": "stdout"
        }
      ]
    },
    {
      "cell_type": "markdown",
      "metadata": {
        "id": "KbJyQofCr71_"
      },
      "source": [
        "\n",
        "> **Nota**\n",
        "> \n",
        "> Até agora estamos apenas lidando com dados e índice de tipo \"textual\" e numérico. Mas `pandas` suporta muitos outros tipos de dados.\n",
        "\n",
        "Um detalhe: cada coluna desse `DataFrame` é uma `Series`.\n"
      ]
    },
    {
      "cell_type": "markdown",
      "metadata": {
        "id": "Q9q8mcbF0J7A"
      },
      "source": [
        "### `Series`\n",
        "\n",
        "Cada coluna pode ser acessada independentemente, preservando o índice das linhas.\n",
        "\n",
        "![series](https://pandas.pydata.org/pandas-docs/stable/_images/01_table_series.svg) *Seção \"Getting started\" (What kind of data does pandas handle?)*\n",
        "\n",
        "Esta estrutura de dados é ideal para lidar com dados de tipo homogêneo (como normalmente teríamos em uma coluna de um `DataFrame`)."
      ]
    },
    {
      "cell_type": "code",
      "metadata": {
        "colab": {
          "base_uri": "https://localhost:8080/"
        },
        "id": "wwj2bmMIpbDR",
        "outputId": "0b3e24bd-23b5-437a-e00c-5865fd7a4668"
      },
      "source": [
        "df[\"Nome\"]"
      ],
      "execution_count": null,
      "outputs": [
        {
          "output_type": "execute_result",
          "data": {
            "text/plain": [
              "0                      Mônica de Sousa\n",
              "1    Cebolácio Menezes da Silva Júnior\n",
              "2             Magali Fernandes de Lima\n",
              "3             Cássio Marques de Araújo\n",
              "Name: Nome, dtype: object"
            ]
          },
          "metadata": {
            "tags": []
          },
          "execution_count": 7
        }
      ]
    },
    {
      "cell_type": "code",
      "metadata": {
        "colab": {
          "base_uri": "https://localhost:8080/"
        },
        "id": "vIU8phQM6G1R",
        "outputId": "79063f93-2715-4805-bcbc-7e07090b70ee"
      },
      "source": [
        "type(df[\"Nome\"])"
      ],
      "execution_count": null,
      "outputs": [
        {
          "output_type": "execute_result",
          "data": {
            "text/plain": [
              "pandas.core.series.Series"
            ]
          },
          "metadata": {
            "tags": []
          },
          "execution_count": 8
        }
      ]
    },
    {
      "cell_type": "markdown",
      "metadata": {
        "id": "vFyc1fjesL_f"
      },
      "source": [
        "Para uma `Series` numérica, um método bastante útil pode ser utilizado para apresentar algumas estatísticas bem comuns:"
      ]
    },
    {
      "cell_type": "code",
      "metadata": {
        "colab": {
          "base_uri": "https://localhost:8080/"
        },
        "id": "KpAa13XisP2_",
        "outputId": "22cd354f-7ca6-44de-a0fe-a38208f4f76f"
      },
      "source": [
        "df[\"Idade\"].describe()"
      ],
      "execution_count": null,
      "outputs": [
        {
          "output_type": "execute_result",
          "data": {
            "text/plain": [
              "count    4.0\n",
              "mean     7.0\n",
              "std      0.0\n",
              "min      7.0\n",
              "25%      7.0\n",
              "50%      7.0\n",
              "75%      7.0\n",
              "max      7.0\n",
              "Name: Idade, dtype: float64"
            ]
          },
          "metadata": {
            "tags": []
          },
          "execution_count": 9
        }
      ]
    },
    {
      "cell_type": "markdown",
      "metadata": {
        "id": "gfzkw3XHtE5E"
      },
      "source": [
        "Não foi muito útil 😝.\n",
        "\n",
        "Mas, podemos adicionar novas linhas a um `DataFrame` existente e verificar a diferença:"
      ]
    },
    {
      "cell_type": "code",
      "metadata": {
        "colab": {
          "base_uri": "https://localhost:8080/"
        },
        "id": "yA8EMkgKt36i",
        "outputId": "9b35dcf8-9c99-4078-a5ed-89603127dc85"
      },
      "source": [
        "df2 = pd.DataFrame(\n",
        "    {\n",
        "        \"Nome\": [\"Horácio\", \"Papa-Capim\"],\n",
        "        \"Idade\": [66000000, 7],\n",
        "    }\n",
        ")\n",
        "df2"
      ],
      "execution_count": null,
      "outputs": [
        {
          "output_type": "execute_result",
          "data": {
            "text/html": [
              "<div>\n",
              "<style scoped>\n",
              "    .dataframe tbody tr th:only-of-type {\n",
              "        vertical-align: middle;\n",
              "    }\n",
              "\n",
              "    .dataframe tbody tr th {\n",
              "        vertical-align: top;\n",
              "    }\n",
              "\n",
              "    .dataframe thead th {\n",
              "        text-align: right;\n",
              "    }\n",
              "</style>\n",
              "<table border=\"1\" class=\"dataframe\">\n",
              "  <thead>\n",
              "    <tr style=\"text-align: right;\">\n",
              "      <th></th>\n",
              "      <th>Nome</th>\n",
              "      <th>Idade</th>\n",
              "    </tr>\n",
              "  </thead>\n",
              "  <tbody>\n",
              "    <tr>\n",
              "      <th>0</th>\n",
              "      <td>Horácio</td>\n",
              "      <td>66000000</td>\n",
              "    </tr>\n",
              "    <tr>\n",
              "      <th>1</th>\n",
              "      <td>Papa-Capim</td>\n",
              "      <td>7</td>\n",
              "    </tr>\n",
              "  </tbody>\n",
              "</table>\n",
              "</div>"
            ],
            "text/plain": [
              "         Nome     Idade\n",
              "0     Horácio  66000000\n",
              "1  Papa-Capim         7"
            ]
          },
          "metadata": {
            "tags": []
          },
          "execution_count": 10
        }
      ]
    },
    {
      "cell_type": "markdown",
      "metadata": {
        "id": "IcX9-4MEwxk8"
      },
      "source": [
        "> **Nota**\n",
        ">\n",
        "> `df` e `df2` foram criados usando estruturas diferentes (lista de dicionários e dicionário de listas, respectivamente).\n",
        "> `pandas` geralmente dá flexibilidade no seu uso para acomodar o seu jeito e seus dados."
      ]
    },
    {
      "cell_type": "code",
      "metadata": {
        "colab": {
          "base_uri": "https://localhost:8080/"
        },
        "id": "FCm0lkVlwRZr",
        "outputId": "0c750a2c-888d-46fb-d1ab-fa5beb7ab645"
      },
      "source": [
        "df = pd.concat([df, df2])\n",
        "df"
      ],
      "execution_count": null,
      "outputs": [
        {
          "output_type": "execute_result",
          "data": {
            "text/html": [
              "<div>\n",
              "<style scoped>\n",
              "    .dataframe tbody tr th:only-of-type {\n",
              "        vertical-align: middle;\n",
              "    }\n",
              "\n",
              "    .dataframe tbody tr th {\n",
              "        vertical-align: top;\n",
              "    }\n",
              "\n",
              "    .dataframe thead th {\n",
              "        text-align: right;\n",
              "    }\n",
              "</style>\n",
              "<table border=\"1\" class=\"dataframe\">\n",
              "  <thead>\n",
              "    <tr style=\"text-align: right;\">\n",
              "      <th></th>\n",
              "      <th>Nome</th>\n",
              "      <th>Idade</th>\n",
              "    </tr>\n",
              "  </thead>\n",
              "  <tbody>\n",
              "    <tr>\n",
              "      <th>0</th>\n",
              "      <td>Mônica de Sousa</td>\n",
              "      <td>7</td>\n",
              "    </tr>\n",
              "    <tr>\n",
              "      <th>1</th>\n",
              "      <td>Cebolácio Menezes da Silva Júnior</td>\n",
              "      <td>7</td>\n",
              "    </tr>\n",
              "    <tr>\n",
              "      <th>2</th>\n",
              "      <td>Magali Fernandes de Lima</td>\n",
              "      <td>7</td>\n",
              "    </tr>\n",
              "    <tr>\n",
              "      <th>3</th>\n",
              "      <td>Cássio Marques de Araújo</td>\n",
              "      <td>7</td>\n",
              "    </tr>\n",
              "    <tr>\n",
              "      <th>0</th>\n",
              "      <td>Horácio</td>\n",
              "      <td>66000000</td>\n",
              "    </tr>\n",
              "    <tr>\n",
              "      <th>1</th>\n",
              "      <td>Papa-Capim</td>\n",
              "      <td>7</td>\n",
              "    </tr>\n",
              "  </tbody>\n",
              "</table>\n",
              "</div>"
            ],
            "text/plain": [
              "                                Nome     Idade\n",
              "0                    Mônica de Sousa         7\n",
              "1  Cebolácio Menezes da Silva Júnior         7\n",
              "2           Magali Fernandes de Lima         7\n",
              "3           Cássio Marques de Araújo         7\n",
              "0                            Horácio  66000000\n",
              "1                         Papa-Capim         7"
            ]
          },
          "metadata": {
            "tags": []
          },
          "execution_count": 11
        }
      ]
    },
    {
      "cell_type": "markdown",
      "metadata": {
        "id": "dDZxEvZUv2Jc"
      },
      "source": [
        "> **Nota**\n",
        ">\n",
        "> Como pode ser visto, o índice preexistente dos dois `DataFrames` permaneceu inalterado após a concatenação. Há maneiras de corrigir isso, se quiser. Uma delas é usar o argumento `ignore_index=True` no `pd.concat`."
      ]
    },
    {
      "cell_type": "code",
      "metadata": {
        "colab": {
          "base_uri": "https://localhost:8080/"
        },
        "id": "LvtLinyJva5p",
        "outputId": "050736eb-8d90-4cd6-d7d4-a6467813d661"
      },
      "source": [
        "df[\"Idade\"].describe()"
      ],
      "execution_count": null,
      "outputs": [
        {
          "output_type": "execute_result",
          "data": {
            "text/plain": [
              "count    6.000000e+00\n",
              "mean     1.100001e+07\n",
              "std      2.694438e+07\n",
              "min      7.000000e+00\n",
              "25%      7.000000e+00\n",
              "50%      7.000000e+00\n",
              "75%      7.000000e+00\n",
              "max      6.600000e+07\n",
              "Name: Idade, dtype: float64"
            ]
          },
          "metadata": {
            "tags": []
          },
          "execution_count": 12
        }
      ]
    },
    {
      "cell_type": "markdown",
      "metadata": {
        "id": "lQj1Ox9Cya_v"
      },
      "source": [
        "Agora sim 😅.\n",
        "\n",
        "Além de adicionar linhas, também é fácil adicionar colunas:"
      ]
    },
    {
      "cell_type": "code",
      "metadata": {
        "colab": {
          "base_uri": "https://localhost:8080/"
        },
        "id": "Wn8Qm91Et2IX",
        "outputId": "61dccef8-62b2-47c2-bcf1-55ac31489c67"
      },
      "source": [
        "import numpy as np\n",
        "\n",
        "df[\"Cor da camiseta/vestido\"] = [\n",
        "    \"Vermelha\",\n",
        "    \"Verde\",\n",
        "    \"Amarela\",\n",
        "    \"Amarela\",\n",
        "    np.nan,\n",
        "    np.nan,\n",
        "]\n",
        "df"
      ],
      "execution_count": null,
      "outputs": [
        {
          "output_type": "execute_result",
          "data": {
            "text/html": [
              "<div>\n",
              "<style scoped>\n",
              "    .dataframe tbody tr th:only-of-type {\n",
              "        vertical-align: middle;\n",
              "    }\n",
              "\n",
              "    .dataframe tbody tr th {\n",
              "        vertical-align: top;\n",
              "    }\n",
              "\n",
              "    .dataframe thead th {\n",
              "        text-align: right;\n",
              "    }\n",
              "</style>\n",
              "<table border=\"1\" class=\"dataframe\">\n",
              "  <thead>\n",
              "    <tr style=\"text-align: right;\">\n",
              "      <th></th>\n",
              "      <th>Nome</th>\n",
              "      <th>Idade</th>\n",
              "      <th>Cor da camiseta/vestido</th>\n",
              "    </tr>\n",
              "  </thead>\n",
              "  <tbody>\n",
              "    <tr>\n",
              "      <th>0</th>\n",
              "      <td>Mônica de Sousa</td>\n",
              "      <td>7</td>\n",
              "      <td>Vermelha</td>\n",
              "    </tr>\n",
              "    <tr>\n",
              "      <th>1</th>\n",
              "      <td>Cebolácio Menezes da Silva Júnior</td>\n",
              "      <td>7</td>\n",
              "      <td>Verde</td>\n",
              "    </tr>\n",
              "    <tr>\n",
              "      <th>2</th>\n",
              "      <td>Magali Fernandes de Lima</td>\n",
              "      <td>7</td>\n",
              "      <td>Amarela</td>\n",
              "    </tr>\n",
              "    <tr>\n",
              "      <th>3</th>\n",
              "      <td>Cássio Marques de Araújo</td>\n",
              "      <td>7</td>\n",
              "      <td>Amarela</td>\n",
              "    </tr>\n",
              "    <tr>\n",
              "      <th>0</th>\n",
              "      <td>Horácio</td>\n",
              "      <td>66000000</td>\n",
              "      <td>NaN</td>\n",
              "    </tr>\n",
              "    <tr>\n",
              "      <th>1</th>\n",
              "      <td>Papa-Capim</td>\n",
              "      <td>7</td>\n",
              "      <td>NaN</td>\n",
              "    </tr>\n",
              "  </tbody>\n",
              "</table>\n",
              "</div>"
            ],
            "text/plain": [
              "                                Nome     Idade Cor da camiseta/vestido\n",
              "0                    Mônica de Sousa         7                Vermelha\n",
              "1  Cebolácio Menezes da Silva Júnior         7                   Verde\n",
              "2           Magali Fernandes de Lima         7                 Amarela\n",
              "3           Cássio Marques de Araújo         7                 Amarela\n",
              "0                            Horácio  66000000                     NaN\n",
              "1                         Papa-Capim         7                     NaN"
            ]
          },
          "metadata": {
            "tags": []
          },
          "execution_count": 13
        }
      ]
    },
    {
      "cell_type": "markdown",
      "metadata": {
        "id": "4lhNdsc803Sv"
      },
      "source": [
        "Além da coluna, duas coisas novas apareceram:\n",
        "\n",
        "1. `numpy`: Biblioteca muito poderosa para lidar com dados numéricos e `pandas` se baseia muito nela tanto por performance quanto por conveniência.\n",
        "\n",
        "1. `np.nan` (*Not A Number*): Valor normalmente usado em `pandas` quando não se reconhece um valor. Podemos pensar nele como uma espécie de `None`, \"N/A\", `NULL`, etc."
      ]
    },
    {
      "cell_type": "markdown",
      "metadata": {
        "id": "iwpSYu545zo0"
      },
      "source": [
        "## Visualizando\n",
        "\n",
        "Para visualizar com mais facilidade `DataFrames` e `Series` (principalmente quando o conjunto de dados for bem grande)."
      ]
    },
    {
      "cell_type": "markdown",
      "metadata": {
        "id": "Y52k3OwF6oRE"
      },
      "source": [
        "### Coluna como `list`"
      ]
    },
    {
      "cell_type": "code",
      "metadata": {
        "colab": {
          "base_uri": "https://localhost:8080/"
        },
        "id": "ZoPUSqQ4BJQ-",
        "outputId": "303218b1-ec06-4ae5-e1da-8ad4c59073db"
      },
      "source": [
        "df[\"Nome\"].to_list()"
      ],
      "execution_count": null,
      "outputs": [
        {
          "output_type": "execute_result",
          "data": {
            "text/plain": [
              "['Mônica de Sousa',\n",
              " 'Cebolácio Menezes da Silva Júnior',\n",
              " 'Magali Fernandes de Lima',\n",
              " 'Cássio Marques de Araújo',\n",
              " 'Horácio',\n",
              " 'Papa-Capim']"
            ]
          },
          "metadata": {
            "tags": []
          },
          "execution_count": 14
        }
      ]
    },
    {
      "cell_type": "markdown",
      "metadata": {
        "id": "HKn23H5RBW0J"
      },
      "source": [
        "### Coluna como `np.array`"
      ]
    },
    {
      "cell_type": "code",
      "metadata": {
        "colab": {
          "base_uri": "https://localhost:8080/"
        },
        "id": "Z3n36ummBVaa",
        "outputId": "c9eb6f57-1ccf-48a2-b8d5-4bd2136ea51d"
      },
      "source": [
        "df[\"Idade\"].to_numpy()"
      ],
      "execution_count": null,
      "outputs": [
        {
          "output_type": "execute_result",
          "data": {
            "text/plain": [
              "array([       7,        7,        7,        7, 66000000,        7])"
            ]
          },
          "metadata": {
            "tags": []
          },
          "execution_count": 15
        }
      ]
    },
    {
      "cell_type": "markdown",
      "metadata": {
        "id": "YUlyUw6qBkQL"
      },
      "source": [
        "### Valores ordenados"
      ]
    },
    {
      "cell_type": "code",
      "metadata": {
        "colab": {
          "base_uri": "https://localhost:8080/"
        },
        "id": "VX-aHc9tBtDP",
        "outputId": "79c5fbb0-2725-426d-88af-3cb383370d7f"
      },
      "source": [
        "df[\"Idade\"].sort_values()"
      ],
      "execution_count": null,
      "outputs": [
        {
          "output_type": "execute_result",
          "data": {
            "text/plain": [
              "0           7\n",
              "1           7\n",
              "2           7\n",
              "3           7\n",
              "1           7\n",
              "0    66000000\n",
              "Name: Idade, dtype: int64"
            ]
          },
          "metadata": {
            "tags": []
          },
          "execution_count": 16
        }
      ]
    },
    {
      "cell_type": "markdown",
      "metadata": {
        "id": "d4H4WI2QSC5l"
      },
      "source": [
        "### Gráfico"
      ]
    },
    {
      "cell_type": "code",
      "metadata": {
        "colab": {
          "base_uri": "https://localhost:8080/"
        },
        "id": "A9wEMNqOSFHr",
        "outputId": "8ded4891-73eb-45ca-e763-8c09aaa5cf7a"
      },
      "source": [
        "df.plot.hist(by=\"Idade\", bins=3)"
      ],
      "execution_count": null,
      "outputs": [
        {
          "output_type": "execute_result",
          "data": {
            "text/plain": [
              "<matplotlib.axes._subplots.AxesSubplot at 0x7f406a214e50>"
            ]
          },
          "metadata": {
            "tags": []
          },
          "execution_count": 17
        },
        {
          "output_type": "display_data",
          "data": {
            "image/png": "[encoded data removed]",
            "text/plain": [
              "<Figure size 432x288 with 1 Axes>"
            ]
          },
          "metadata": {
            "tags": [],
            "needs_background": "light"
          }
        }
      ]
    },
    {
      "cell_type": "markdown",
      "metadata": {
        "id": "vMR_nqYTTYU5"
      },
      "source": [
        "Histograma um pouco bizarro 😆. Mas se deu pra entender, tá ótimo!\n",
        "\n",
        "`df.plot` possui vários outros tipos de gráficos criados usando a biblioteca `matplotlib` como base."
      ]
    },
    {
      "cell_type": "markdown",
      "metadata": {
        "id": "2VDW0a3CCXcl"
      },
      "source": [
        "## Selecionando\n",
        "\n",
        "Para usar apenas um subconjunto desejado dos dados."
      ]
    },
    {
      "cell_type": "markdown",
      "metadata": {
        "id": "FzeKiLwf6WT1"
      },
      "source": [
        "### Primeiras linhas"
      ]
    },
    {
      "cell_type": "code",
      "metadata": {
        "colab": {
          "base_uri": "https://localhost:8080/"
        },
        "id": "b9Oj9MuJ6ZON",
        "outputId": "00cf44c0-8bbd-4225-c4ba-5fe650d101bb"
      },
      "source": [
        "df.head(3)"
      ],
      "execution_count": null,
      "outputs": [
        {
          "output_type": "execute_result",
          "data": {
            "text/html": [
              "<div>\n",
              "<style scoped>\n",
              "    .dataframe tbody tr th:only-of-type {\n",
              "        vertical-align: middle;\n",
              "    }\n",
              "\n",
              "    .dataframe tbody tr th {\n",
              "        vertical-align: top;\n",
              "    }\n",
              "\n",
              "    .dataframe thead th {\n",
              "        text-align: right;\n",
              "    }\n",
              "</style>\n",
              "<table border=\"1\" class=\"dataframe\">\n",
              "  <thead>\n",
              "    <tr style=\"text-align: right;\">\n",
              "      <th></th>\n",
              "      <th>Nome</th>\n",
              "      <th>Idade</th>\n",
              "      <th>Cor da camiseta/vestido</th>\n",
              "    </tr>\n",
              "  </thead>\n",
              "  <tbody>\n",
              "    <tr>\n",
              "      <th>0</th>\n",
              "      <td>Mônica de Sousa</td>\n",
              "      <td>7</td>\n",
              "      <td>Vermelha</td>\n",
              "    </tr>\n",
              "    <tr>\n",
              "      <th>1</th>\n",
              "      <td>Cebolácio Menezes da Silva Júnior</td>\n",
              "      <td>7</td>\n",
              "      <td>Verde</td>\n",
              "    </tr>\n",
              "    <tr>\n",
              "      <th>2</th>\n",
              "      <td>Magali Fernandes de Lima</td>\n",
              "      <td>7</td>\n",
              "      <td>Amarela</td>\n",
              "    </tr>\n",
              "  </tbody>\n",
              "</table>\n",
              "</div>"
            ],
            "text/plain": [
              "                                Nome  Idade Cor da camiseta/vestido\n",
              "0                    Mônica de Sousa      7                Vermelha\n",
              "1  Cebolácio Menezes da Silva Júnior      7                   Verde\n",
              "2           Magali Fernandes de Lima      7                 Amarela"
            ]
          },
          "metadata": {
            "tags": []
          },
          "execution_count": 18
        }
      ]
    },
    {
      "cell_type": "markdown",
      "metadata": {
        "id": "GJG-E6YA6cdK"
      },
      "source": [
        "### Últimas linhas"
      ]
    },
    {
      "cell_type": "code",
      "metadata": {
        "colab": {
          "base_uri": "https://localhost:8080/"
        },
        "id": "7kH9VlyJ6b90",
        "outputId": "881a5d4b-40c9-4d84-9e3b-761315954a09"
      },
      "source": [
        "df.tail(2)"
      ],
      "execution_count": null,
      "outputs": [
        {
          "output_type": "execute_result",
          "data": {
            "text/html": [
              "<div>\n",
              "<style scoped>\n",
              "    .dataframe tbody tr th:only-of-type {\n",
              "        vertical-align: middle;\n",
              "    }\n",
              "\n",
              "    .dataframe tbody tr th {\n",
              "        vertical-align: top;\n",
              "    }\n",
              "\n",
              "    .dataframe thead th {\n",
              "        text-align: right;\n",
              "    }\n",
              "</style>\n",
              "<table border=\"1\" class=\"dataframe\">\n",
              "  <thead>\n",
              "    <tr style=\"text-align: right;\">\n",
              "      <th></th>\n",
              "      <th>Nome</th>\n",
              "      <th>Idade</th>\n",
              "      <th>Cor da camiseta/vestido</th>\n",
              "    </tr>\n",
              "  </thead>\n",
              "  <tbody>\n",
              "    <tr>\n",
              "      <th>0</th>\n",
              "      <td>Horácio</td>\n",
              "      <td>66000000</td>\n",
              "      <td>NaN</td>\n",
              "    </tr>\n",
              "    <tr>\n",
              "      <th>1</th>\n",
              "      <td>Papa-Capim</td>\n",
              "      <td>7</td>\n",
              "      <td>NaN</td>\n",
              "    </tr>\n",
              "  </tbody>\n",
              "</table>\n",
              "</div>"
            ],
            "text/plain": [
              "         Nome     Idade Cor da camiseta/vestido\n",
              "0     Horácio  66000000                     NaN\n",
              "1  Papa-Capim         7                     NaN"
            ]
          },
          "metadata": {
            "tags": []
          },
          "execution_count": 19
        }
      ]
    },
    {
      "cell_type": "markdown",
      "metadata": {
        "id": "UZlwFuLU6j-8"
      },
      "source": [
        "### Exemplos escolhidos aleatoriamente"
      ]
    },
    {
      "cell_type": "code",
      "metadata": {
        "colab": {
          "base_uri": "https://localhost:8080/"
        },
        "id": "kRJ8w7MV6sz-",
        "outputId": "0b587bbc-1c1a-4b6a-814b-a63c9bde9c4f"
      },
      "source": [
        "df.sample(3)"
      ],
      "execution_count": null,
      "outputs": [
        {
          "output_type": "execute_result",
          "data": {
            "text/html": [
              "<div>\n",
              "<style scoped>\n",
              "    .dataframe tbody tr th:only-of-type {\n",
              "        vertical-align: middle;\n",
              "    }\n",
              "\n",
              "    .dataframe tbody tr th {\n",
              "        vertical-align: top;\n",
              "    }\n",
              "\n",
              "    .dataframe thead th {\n",
              "        text-align: right;\n",
              "    }\n",
              "</style>\n",
              "<table border=\"1\" class=\"dataframe\">\n",
              "  <thead>\n",
              "    <tr style=\"text-align: right;\">\n",
              "      <th></th>\n",
              "      <th>Nome</th>\n",
              "      <th>Idade</th>\n",
              "      <th>Cor da camiseta/vestido</th>\n",
              "    </tr>\n",
              "  </thead>\n",
              "  <tbody>\n",
              "    <tr>\n",
              "      <th>1</th>\n",
              "      <td>Papa-Capim</td>\n",
              "      <td>7</td>\n",
              "      <td>NaN</td>\n",
              "    </tr>\n",
              "    <tr>\n",
              "      <th>3</th>\n",
              "      <td>Cássio Marques de Araújo</td>\n",
              "      <td>7</td>\n",
              "      <td>Amarela</td>\n",
              "    </tr>\n",
              "    <tr>\n",
              "      <th>0</th>\n",
              "      <td>Mônica de Sousa</td>\n",
              "      <td>7</td>\n",
              "      <td>Vermelha</td>\n",
              "    </tr>\n",
              "  </tbody>\n",
              "</table>\n",
              "</div>"
            ],
            "text/plain": [
              "                       Nome  Idade Cor da camiseta/vestido\n",
              "1                Papa-Capim      7                     NaN\n",
              "3  Cássio Marques de Araújo      7                 Amarela\n",
              "0           Mônica de Sousa      7                Vermelha"
            ]
          },
          "metadata": {
            "tags": []
          },
          "execution_count": 20
        }
      ]
    },
    {
      "cell_type": "markdown",
      "metadata": {
        "id": "Did-6qQTGp3d"
      },
      "source": [
        "### Fatia"
      ]
    },
    {
      "cell_type": "code",
      "metadata": {
        "colab": {
          "base_uri": "https://localhost:8080/"
        },
        "id": "OFTV1kU8Egu5",
        "outputId": "7554fcc7-6d44-4686-dab3-52c370dd25e2"
      },
      "source": [
        "df[1:3]"
      ],
      "execution_count": null,
      "outputs": [
        {
          "output_type": "execute_result",
          "data": {
            "text/html": [
              "<div>\n",
              "<style scoped>\n",
              "    .dataframe tbody tr th:only-of-type {\n",
              "        vertical-align: middle;\n",
              "    }\n",
              "\n",
              "    .dataframe tbody tr th {\n",
              "        vertical-align: top;\n",
              "    }\n",
              "\n",
              "    .dataframe thead th {\n",
              "        text-align: right;\n",
              "    }\n",
              "</style>\n",
              "<table border=\"1\" class=\"dataframe\">\n",
              "  <thead>\n",
              "    <tr style=\"text-align: right;\">\n",
              "      <th></th>\n",
              "      <th>Nome</th>\n",
              "      <th>Idade</th>\n",
              "      <th>Cor da camiseta/vestido</th>\n",
              "    </tr>\n",
              "  </thead>\n",
              "  <tbody>\n",
              "    <tr>\n",
              "      <th>1</th>\n",
              "      <td>Cebolácio Menezes da Silva Júnior</td>\n",
              "      <td>7</td>\n",
              "      <td>Verde</td>\n",
              "    </tr>\n",
              "    <tr>\n",
              "      <th>2</th>\n",
              "      <td>Magali Fernandes de Lima</td>\n",
              "      <td>7</td>\n",
              "      <td>Amarela</td>\n",
              "    </tr>\n",
              "  </tbody>\n",
              "</table>\n",
              "</div>"
            ],
            "text/plain": [
              "                                Nome  Idade Cor da camiseta/vestido\n",
              "1  Cebolácio Menezes da Silva Júnior      7                   Verde\n",
              "2           Magali Fernandes de Lima      7                 Amarela"
            ]
          },
          "metadata": {
            "tags": []
          },
          "execution_count": 21
        }
      ]
    },
    {
      "cell_type": "markdown",
      "metadata": {
        "id": "geU9Bw2jCnSd"
      },
      "source": [
        "### Apenas uma coluna"
      ]
    },
    {
      "cell_type": "code",
      "metadata": {
        "colab": {
          "base_uri": "https://localhost:8080/"
        },
        "id": "hHzk3ql6DT8k",
        "outputId": "a9441667-30b6-433b-e98a-0fe22b786c5d"
      },
      "source": [
        "df[\"Idade\"]"
      ],
      "execution_count": null,
      "outputs": [
        {
          "output_type": "execute_result",
          "data": {
            "text/plain": [
              "0           7\n",
              "1           7\n",
              "2           7\n",
              "3           7\n",
              "0    66000000\n",
              "1           7\n",
              "Name: Idade, dtype: int64"
            ]
          },
          "metadata": {
            "tags": []
          },
          "execution_count": 22
        }
      ]
    },
    {
      "cell_type": "markdown",
      "metadata": {
        "id": "SFu17WaODiIE"
      },
      "source": [
        "### Mais de uma coluna"
      ]
    },
    {
      "cell_type": "code",
      "metadata": {
        "colab": {
          "base_uri": "https://localhost:8080/"
        },
        "id": "b-StqC8bDfbO",
        "outputId": "10d7d279-160d-4ed4-abc8-f31fc38511fc"
      },
      "source": [
        "df[[\"Nome\", \"Idade\"]]"
      ],
      "execution_count": null,
      "outputs": [
        {
          "output_type": "execute_result",
          "data": {
            "text/html": [
              "<div>\n",
              "<style scoped>\n",
              "    .dataframe tbody tr th:only-of-type {\n",
              "        vertical-align: middle;\n",
              "    }\n",
              "\n",
              "    .dataframe tbody tr th {\n",
              "        vertical-align: top;\n",
              "    }\n",
              "\n",
              "    .dataframe thead th {\n",
              "        text-align: right;\n",
              "    }\n",
              "</style>\n",
              "<table border=\"1\" class=\"dataframe\">\n",
              "  <thead>\n",
              "    <tr style=\"text-align: right;\">\n",
              "      <th></th>\n",
              "      <th>Nome</th>\n",
              "      <th>Idade</th>\n",
              "    </tr>\n",
              "  </thead>\n",
              "  <tbody>\n",
              "    <tr>\n",
              "      <th>0</th>\n",
              "      <td>Mônica de Sousa</td>\n",
              "      <td>7</td>\n",
              "    </tr>\n",
              "    <tr>\n",
              "      <th>1</th>\n",
              "      <td>Cebolácio Menezes da Silva Júnior</td>\n",
              "      <td>7</td>\n",
              "    </tr>\n",
              "    <tr>\n",
              "      <th>2</th>\n",
              "      <td>Magali Fernandes de Lima</td>\n",
              "      <td>7</td>\n",
              "    </tr>\n",
              "    <tr>\n",
              "      <th>3</th>\n",
              "      <td>Cássio Marques de Araújo</td>\n",
              "      <td>7</td>\n",
              "    </tr>\n",
              "    <tr>\n",
              "      <th>0</th>\n",
              "      <td>Horácio</td>\n",
              "      <td>66000000</td>\n",
              "    </tr>\n",
              "    <tr>\n",
              "      <th>1</th>\n",
              "      <td>Papa-Capim</td>\n",
              "      <td>7</td>\n",
              "    </tr>\n",
              "  </tbody>\n",
              "</table>\n",
              "</div>"
            ],
            "text/plain": [
              "                                Nome     Idade\n",
              "0                    Mônica de Sousa         7\n",
              "1  Cebolácio Menezes da Silva Júnior         7\n",
              "2           Magali Fernandes de Lima         7\n",
              "3           Cássio Marques de Araújo         7\n",
              "0                            Horácio  66000000\n",
              "1                         Papa-Capim         7"
            ]
          },
          "metadata": {
            "tags": []
          },
          "execution_count": 23
        }
      ]
    },
    {
      "cell_type": "markdown",
      "metadata": {
        "id": "-0nFUhoRDrpb"
      },
      "source": [
        "### Filtro\n",
        "\n"
      ]
    },
    {
      "cell_type": "code",
      "metadata": {
        "colab": {
          "base_uri": "https://localhost:8080/"
        },
        "id": "Mzo3IUwuDWui",
        "outputId": "38622b6c-e438-454d-f833-61784aa3f3fc"
      },
      "source": [
        "df[df[\"Idade\"] > 7]"
      ],
      "execution_count": null,
      "outputs": [
        {
          "output_type": "execute_result",
          "data": {
            "text/html": [
              "<div>\n",
              "<style scoped>\n",
              "    .dataframe tbody tr th:only-of-type {\n",
              "        vertical-align: middle;\n",
              "    }\n",
              "\n",
              "    .dataframe tbody tr th {\n",
              "        vertical-align: top;\n",
              "    }\n",
              "\n",
              "    .dataframe thead th {\n",
              "        text-align: right;\n",
              "    }\n",
              "</style>\n",
              "<table border=\"1\" class=\"dataframe\">\n",
              "  <thead>\n",
              "    <tr style=\"text-align: right;\">\n",
              "      <th></th>\n",
              "      <th>Nome</th>\n",
              "      <th>Idade</th>\n",
              "      <th>Cor da camiseta/vestido</th>\n",
              "    </tr>\n",
              "  </thead>\n",
              "  <tbody>\n",
              "    <tr>\n",
              "      <th>0</th>\n",
              "      <td>Horácio</td>\n",
              "      <td>66000000</td>\n",
              "      <td>NaN</td>\n",
              "    </tr>\n",
              "  </tbody>\n",
              "</table>\n",
              "</div>"
            ],
            "text/plain": [
              "      Nome     Idade Cor da camiseta/vestido\n",
              "0  Horácio  66000000                     NaN"
            ]
          },
          "metadata": {
            "tags": []
          },
          "execution_count": 24
        }
      ]
    },
    {
      "cell_type": "markdown",
      "metadata": {
        "id": "epX49dQhE3GP"
      },
      "source": [
        "O filtro pode ficar mais fácil de entender, observando o que `df[\"Idade\"] > 7` é:"
      ]
    },
    {
      "cell_type": "code",
      "metadata": {
        "colab": {
          "base_uri": "https://localhost:8080/"
        },
        "id": "80pSX1ebFaLx",
        "outputId": "b53def99-fe41-45b6-f3fc-12ccdaad32cd"
      },
      "source": [
        "df[\"Idade\"] > 7"
      ],
      "execution_count": null,
      "outputs": [
        {
          "output_type": "execute_result",
          "data": {
            "text/plain": [
              "0    False\n",
              "1    False\n",
              "2    False\n",
              "3    False\n",
              "0     True\n",
              "1    False\n",
              "Name: Idade, dtype: bool"
            ]
          },
          "metadata": {
            "tags": []
          },
          "execution_count": 25
        }
      ]
    },
    {
      "cell_type": "markdown",
      "metadata": {
        "id": "jHx-5D8ZFiFX"
      },
      "source": [
        "A condição é aplicada em todas as linhas, e quando indexamos `df` com essa condição, apenas os valores `True` são mostrados."
      ]
    },
    {
      "cell_type": "markdown",
      "metadata": {
        "id": "w9S0vbT6D1bb"
      },
      "source": [
        "### Filtros mais complexos"
      ]
    },
    {
      "cell_type": "code",
      "metadata": {
        "colab": {
          "base_uri": "https://localhost:8080/"
        },
        "id": "YmiHFgWKD26E",
        "outputId": "a5c165c5-b22c-42f3-b771-07b2a338479b"
      },
      "source": [
        "df[(df[\"Idade\"] <= 7) & (df[\"Cor da camiseta/vestido\"] == \"Amarela\")]"
      ],
      "execution_count": null,
      "outputs": [
        {
          "output_type": "execute_result",
          "data": {
            "text/html": [
              "<div>\n",
              "<style scoped>\n",
              "    .dataframe tbody tr th:only-of-type {\n",
              "        vertical-align: middle;\n",
              "    }\n",
              "\n",
              "    .dataframe tbody tr th {\n",
              "        vertical-align: top;\n",
              "    }\n",
              "\n",
              "    .dataframe thead th {\n",
              "        text-align: right;\n",
              "    }\n",
              "</style>\n",
              "<table border=\"1\" class=\"dataframe\">\n",
              "  <thead>\n",
              "    <tr style=\"text-align: right;\">\n",
              "      <th></th>\n",
              "      <th>Nome</th>\n",
              "      <th>Idade</th>\n",
              "      <th>Cor da camiseta/vestido</th>\n",
              "    </tr>\n",
              "  </thead>\n",
              "  <tbody>\n",
              "    <tr>\n",
              "      <th>2</th>\n",
              "      <td>Magali Fernandes de Lima</td>\n",
              "      <td>7</td>\n",
              "      <td>Amarela</td>\n",
              "    </tr>\n",
              "    <tr>\n",
              "      <th>3</th>\n",
              "      <td>Cássio Marques de Araújo</td>\n",
              "      <td>7</td>\n",
              "      <td>Amarela</td>\n",
              "    </tr>\n",
              "  </tbody>\n",
              "</table>\n",
              "</div>"
            ],
            "text/plain": [
              "                       Nome  Idade Cor da camiseta/vestido\n",
              "2  Magali Fernandes de Lima      7                 Amarela\n",
              "3  Cássio Marques de Araújo      7                 Amarela"
            ]
          },
          "metadata": {
            "tags": []
          },
          "execution_count": 26
        }
      ]
    },
    {
      "cell_type": "markdown",
      "metadata": {
        "id": "MDWluLGTF0-A"
      },
      "source": [
        "Os operadores `&` (E) `|` (OU) e `~` (NEGAÇÃO) são usados para combinar condições."
      ]
    },
    {
      "cell_type": "markdown",
      "metadata": {
        "id": "TIXISZ8YHHfC"
      },
      "source": [
        "### Pelo índice"
      ]
    },
    {
      "cell_type": "code",
      "metadata": {
        "colab": {
          "base_uri": "https://localhost:8080/"
        },
        "id": "AF8_Ll17G7PW",
        "outputId": "1d8e8713-6cb4-4f5a-eb51-1f98f7f32f4f"
      },
      "source": [
        "df.loc[0]"
      ],
      "execution_count": null,
      "outputs": [
        {
          "output_type": "execute_result",
          "data": {
            "text/html": [
              "<div>\n",
              "<style scoped>\n",
              "    .dataframe tbody tr th:only-of-type {\n",
              "        vertical-align: middle;\n",
              "    }\n",
              "\n",
              "    .dataframe tbody tr th {\n",
              "        vertical-align: top;\n",
              "    }\n",
              "\n",
              "    .dataframe thead th {\n",
              "        text-align: right;\n",
              "    }\n",
              "</style>\n",
              "<table border=\"1\" class=\"dataframe\">\n",
              "  <thead>\n",
              "    <tr style=\"text-align: right;\">\n",
              "      <th></th>\n",
              "      <th>Nome</th>\n",
              "      <th>Idade</th>\n",
              "      <th>Cor da camiseta/vestido</th>\n",
              "    </tr>\n",
              "  </thead>\n",
              "  <tbody>\n",
              "    <tr>\n",
              "      <th>0</th>\n",
              "      <td>Mônica de Sousa</td>\n",
              "      <td>7</td>\n",
              "      <td>Vermelha</td>\n",
              "    </tr>\n",
              "    <tr>\n",
              "      <th>0</th>\n",
              "      <td>Horácio</td>\n",
              "      <td>66000000</td>\n",
              "      <td>NaN</td>\n",
              "    </tr>\n",
              "  </tbody>\n",
              "</table>\n",
              "</div>"
            ],
            "text/plain": [
              "              Nome     Idade Cor da camiseta/vestido\n",
              "0  Mônica de Sousa         7                Vermelha\n",
              "0          Horácio  66000000                     NaN"
            ]
          },
          "metadata": {
            "tags": []
          },
          "execution_count": 27
        }
      ]
    },
    {
      "cell_type": "markdown",
      "metadata": {
        "id": "DTf4eJ54HV-d"
      },
      "source": [
        "### Pela posição"
      ]
    },
    {
      "cell_type": "code",
      "metadata": {
        "colab": {
          "base_uri": "https://localhost:8080/"
        },
        "id": "MV9F3LO5HL56",
        "outputId": "43b67e65-a47d-4dbb-e109-c5547b755e1b"
      },
      "source": [
        "df.iloc[0]"
      ],
      "execution_count": null,
      "outputs": [
        {
          "output_type": "execute_result",
          "data": {
            "text/plain": [
              "Nome                       Mônica de Sousa\n",
              "Idade                                    7\n",
              "Cor da camiseta/vestido           Vermelha\n",
              "Name: 0, dtype: object"
            ]
          },
          "metadata": {
            "tags": []
          },
          "execution_count": 28
        }
      ]
    },
    {
      "cell_type": "markdown",
      "metadata": {
        "id": "jtOxvsaQIWKE"
      },
      "source": [
        "## Agrupando\n",
        "\n",
        "Quando precisamos entender melhor com uma visão diferente."
      ]
    },
    {
      "cell_type": "markdown",
      "metadata": {
        "id": "lSQOR6z3I2kV"
      },
      "source": [
        "### \"Histograma\""
      ]
    },
    {
      "cell_type": "code",
      "metadata": {
        "colab": {
          "base_uri": "https://localhost:8080/"
        },
        "id": "xHwzVqVlJANB",
        "outputId": "12a0f7d8-7474-43a5-9243-2f1078f1a5c8"
      },
      "source": [
        "df[\"Cor da camiseta/vestido\"].value_counts()"
      ],
      "execution_count": null,
      "outputs": [
        {
          "output_type": "execute_result",
          "data": {
            "text/plain": [
              "Amarela     2\n",
              "Vermelha    1\n",
              "Verde       1\n",
              "Name: Cor da camiseta/vestido, dtype: int64"
            ]
          },
          "metadata": {
            "tags": []
          },
          "execution_count": 29
        }
      ]
    },
    {
      "cell_type": "markdown",
      "metadata": {
        "id": "PeN4a7uBKNeF"
      },
      "source": [
        "### Groupby"
      ]
    },
    {
      "cell_type": "code",
      "metadata": {
        "colab": {
          "base_uri": "https://localhost:8080/"
        },
        "id": "LjJUPVSMKQFb",
        "outputId": "7fe2bea0-8b39-4b52-8365-93f3e35f22c7"
      },
      "source": [
        "df.groupby(\"Idade\").size()"
      ],
      "execution_count": null,
      "outputs": [
        {
          "output_type": "execute_result",
          "data": {
            "text/plain": [
              "Idade\n",
              "7           5\n",
              "66000000    1\n",
              "dtype: int64"
            ]
          },
          "metadata": {
            "tags": []
          },
          "execution_count": 30
        }
      ]
    },
    {
      "cell_type": "markdown",
      "metadata": {
        "id": "nfvweVyKL5jN"
      },
      "source": [
        "### Valores únicos"
      ]
    },
    {
      "cell_type": "code",
      "metadata": {
        "colab": {
          "base_uri": "https://localhost:8080/"
        },
        "id": "qwQf950WL7W4",
        "outputId": "3ee98356-a281-4700-b4be-d1fe7a84d32d"
      },
      "source": [
        "df[\"Cor da camiseta/vestido\"].unique()"
      ],
      "execution_count": null,
      "outputs": [
        {
          "output_type": "execute_result",
          "data": {
            "text/plain": [
              "array(['Vermelha', 'Verde', 'Amarela', nan], dtype=object)"
            ]
          },
          "metadata": {
            "tags": []
          },
          "execution_count": 31
        }
      ]
    },
    {
      "cell_type": "markdown",
      "metadata": {
        "id": "aBeobFisMhiE"
      },
      "source": [
        "## Numericando\n",
        "\n",
        "Porque análise de dados muitas vezes envolve número, né?"
      ]
    },
    {
      "cell_type": "markdown",
      "metadata": {
        "id": "iNS0ZYEzMwAz"
      },
      "source": [
        "### Mediana"
      ]
    },
    {
      "cell_type": "code",
      "metadata": {
        "colab": {
          "base_uri": "https://localhost:8080/"
        },
        "id": "NeawP7AyNICC",
        "outputId": "56c03303-c5fd-4d86-88bb-ecfe98c6a3e5"
      },
      "source": [
        "df[\"Idade\"].median()"
      ],
      "execution_count": null,
      "outputs": [
        {
          "output_type": "execute_result",
          "data": {
            "text/plain": [
              "7.0"
            ]
          },
          "metadata": {
            "tags": []
          },
          "execution_count": 32
        }
      ]
    },
    {
      "cell_type": "markdown",
      "metadata": {
        "id": "n_r55ZkWNYBu"
      },
      "source": [
        "Além deste (e do `.describe()` mostrado anteriormente) existem muitos outros métodos que, por brevidade, não serão apresentados aqui 😅."
      ]
    },
    {
      "cell_type": "markdown",
      "metadata": {
        "id": "xUqeLHiAMleB"
      },
      "source": [
        "## Textuando\n",
        "\n",
        "Porque análise de dados muitas vezes envolve letras, né?"
      ]
    },
    {
      "cell_type": "markdown",
      "metadata": {
        "id": "81bG4BGiQRxe"
      },
      "source": [
        "### Substring"
      ]
    },
    {
      "cell_type": "code",
      "metadata": {
        "colab": {
          "base_uri": "https://localhost:8080/"
        },
        "id": "bW3jOk2KQUNH",
        "outputId": "84d96f64-43b0-4152-c813-6db1abe5245e"
      },
      "source": [
        "df[\"Nome\"].str.contains(\"de\")"
      ],
      "execution_count": null,
      "outputs": [
        {
          "output_type": "execute_result",
          "data": {
            "text/plain": [
              "0     True\n",
              "1    False\n",
              "2     True\n",
              "3     True\n",
              "0    False\n",
              "1    False\n",
              "Name: Nome, dtype: bool"
            ]
          },
          "metadata": {
            "tags": []
          },
          "execution_count": 33
        }
      ]
    },
    {
      "cell_type": "markdown",
      "metadata": {
        "id": "2-1lRGkIQnNe"
      },
      "source": [
        "Aplicando o conceito de \"filtro\":"
      ]
    },
    {
      "cell_type": "code",
      "metadata": {
        "colab": {
          "base_uri": "https://localhost:8080/"
        },
        "id": "5Kl13jbtRJ7f",
        "outputId": "eda8663e-f7a8-4b87-8500-6c1565899207"
      },
      "source": [
        "df[df[\"Nome\"].str.contains(\"de\")]"
      ],
      "execution_count": null,
      "outputs": [
        {
          "output_type": "execute_result",
          "data": {
            "text/html": [
              "<div>\n",
              "<style scoped>\n",
              "    .dataframe tbody tr th:only-of-type {\n",
              "        vertical-align: middle;\n",
              "    }\n",
              "\n",
              "    .dataframe tbody tr th {\n",
              "        vertical-align: top;\n",
              "    }\n",
              "\n",
              "    .dataframe thead th {\n",
              "        text-align: right;\n",
              "    }\n",
              "</style>\n",
              "<table border=\"1\" class=\"dataframe\">\n",
              "  <thead>\n",
              "    <tr style=\"text-align: right;\">\n",
              "      <th></th>\n",
              "      <th>Nome</th>\n",
              "      <th>Idade</th>\n",
              "      <th>Cor da camiseta/vestido</th>\n",
              "    </tr>\n",
              "  </thead>\n",
              "  <tbody>\n",
              "    <tr>\n",
              "      <th>0</th>\n",
              "      <td>Mônica de Sousa</td>\n",
              "      <td>7</td>\n",
              "      <td>Vermelha</td>\n",
              "    </tr>\n",
              "    <tr>\n",
              "      <th>2</th>\n",
              "      <td>Magali Fernandes de Lima</td>\n",
              "      <td>7</td>\n",
              "      <td>Amarela</td>\n",
              "    </tr>\n",
              "    <tr>\n",
              "      <th>3</th>\n",
              "      <td>Cássio Marques de Araújo</td>\n",
              "      <td>7</td>\n",
              "      <td>Amarela</td>\n",
              "    </tr>\n",
              "  </tbody>\n",
              "</table>\n",
              "</div>"
            ],
            "text/plain": [
              "                       Nome  Idade Cor da camiseta/vestido\n",
              "0           Mônica de Sousa      7                Vermelha\n",
              "2  Magali Fernandes de Lima      7                 Amarela\n",
              "3  Cássio Marques de Araújo      7                 Amarela"
            ]
          },
          "metadata": {
            "tags": []
          },
          "execution_count": 34
        }
      ]
    },
    {
      "cell_type": "markdown",
      "metadata": {
        "id": "uaA7F3RnlX3u"
      },
      "source": [
        "Selecionando por \"apenas uma coluna\":"
      ]
    },
    {
      "cell_type": "code",
      "metadata": {
        "colab": {
          "base_uri": "https://localhost:8080/"
        },
        "id": "7lpc9RNZlgWI",
        "outputId": "1bd74fc7-f6d5-473f-f2d0-8011073ab017"
      },
      "source": [
        "df[df[\"Nome\"].str.contains(\"de\")][\"Nome\"]"
      ],
      "execution_count": null,
      "outputs": [
        {
          "output_type": "execute_result",
          "data": {
            "text/plain": [
              "0             Mônica de Sousa\n",
              "2    Magali Fernandes de Lima\n",
              "3    Cássio Marques de Araújo\n",
              "Name: Nome, dtype: object"
            ]
          },
          "metadata": {
            "tags": []
          },
          "execution_count": 35
        }
      ]
    },
    {
      "cell_type": "markdown",
      "metadata": {
        "id": "JVcEEeHRQ_hB"
      },
      "source": [
        "Também existem muitos métodos úteis para lidar com texto (*strings*) que não serão mostrados aqui por brevidade."
      ]
    },
    {
      "cell_type": "markdown",
      "metadata": {
        "id": "skGfbWgMIECX"
      },
      "source": [
        "## Modificando\n",
        "\n",
        "Para quando os dados precisarem de uns ajustes."
      ]
    },
    {
      "cell_type": "markdown",
      "metadata": {
        "id": "5CjjWDSWIOXK"
      },
      "source": [
        "### Apply"
      ]
    },
    {
      "cell_type": "code",
      "metadata": {
        "colab": {
          "base_uri": "https://localhost:8080/"
        },
        "id": "ZDBrc01THoWe",
        "outputId": "6ef26b82-e301-481f-d35b-dbbbbcf70e76"
      },
      "source": [
        "def soma_um(valor):\n",
        "    return valor + 1\n",
        "\n",
        "df[\"Idade\"].apply(soma_um)"
      ],
      "execution_count": null,
      "outputs": [
        {
          "output_type": "execute_result",
          "data": {
            "text/plain": [
              "0           8\n",
              "1           8\n",
              "2           8\n",
              "3           8\n",
              "0    66000001\n",
              "1           8\n",
              "Name: Idade, dtype: int64"
            ]
          },
          "metadata": {
            "tags": []
          },
          "execution_count": 36
        }
      ]
    },
    {
      "cell_type": "markdown",
      "metadata": {
        "id": "CV_WS6bCU-Z1"
      },
      "source": [
        "Uma função qualquer pode ser utilizada e aplicada a todos os valores de uma `Series`. Esta é uma ferramenta muito poderosa para operações mais complexas. E também está disponível para `DataFrames`:"
      ]
    },
    {
      "cell_type": "code",
      "metadata": {
        "colab": {
          "base_uri": "https://localhost:8080/"
        },
        "id": "rNkeErdoVeG5",
        "outputId": "17fdeefd-08c0-470a-daae-1321d9e67a01"
      },
      "source": [
        "def soma_um_na_idade(linha):\n",
        "    linha[\"Idade\"] += 1\n",
        "    return linha\n",
        "\n",
        "df.apply(soma_um_na_idade, axis=1)"
      ],
      "execution_count": null,
      "outputs": [
        {
          "output_type": "execute_result",
          "data": {
            "text/html": [
              "<div>\n",
              "<style scoped>\n",
              "    .dataframe tbody tr th:only-of-type {\n",
              "        vertical-align: middle;\n",
              "    }\n",
              "\n",
              "    .dataframe tbody tr th {\n",
              "        vertical-align: top;\n",
              "    }\n",
              "\n",
              "    .dataframe thead th {\n",
              "        text-align: right;\n",
              "    }\n",
              "</style>\n",
              "<table border=\"1\" class=\"dataframe\">\n",
              "  <thead>\n",
              "    <tr style=\"text-align: right;\">\n",
              "      <th></th>\n",
              "      <th>Nome</th>\n",
              "      <th>Idade</th>\n",
              "      <th>Cor da camiseta/vestido</th>\n",
              "    </tr>\n",
              "  </thead>\n",
              "  <tbody>\n",
              "    <tr>\n",
              "      <th>0</th>\n",
              "      <td>Mônica de Sousa</td>\n",
              "      <td>8</td>\n",
              "      <td>Vermelha</td>\n",
              "    </tr>\n",
              "    <tr>\n",
              "      <th>1</th>\n",
              "      <td>Cebolácio Menezes da Silva Júnior</td>\n",
              "      <td>8</td>\n",
              "      <td>Verde</td>\n",
              "    </tr>\n",
              "    <tr>\n",
              "      <th>2</th>\n",
              "      <td>Magali Fernandes de Lima</td>\n",
              "      <td>8</td>\n",
              "      <td>Amarela</td>\n",
              "    </tr>\n",
              "    <tr>\n",
              "      <th>3</th>\n",
              "      <td>Cássio Marques de Araújo</td>\n",
              "      <td>8</td>\n",
              "      <td>Amarela</td>\n",
              "    </tr>\n",
              "    <tr>\n",
              "      <th>0</th>\n",
              "      <td>Horácio</td>\n",
              "      <td>66000001</td>\n",
              "      <td>NaN</td>\n",
              "    </tr>\n",
              "    <tr>\n",
              "      <th>1</th>\n",
              "      <td>Papa-Capim</td>\n",
              "      <td>8</td>\n",
              "      <td>NaN</td>\n",
              "    </tr>\n",
              "  </tbody>\n",
              "</table>\n",
              "</div>"
            ],
            "text/plain": [
              "                                Nome     Idade Cor da camiseta/vestido\n",
              "0                    Mônica de Sousa         8                Vermelha\n",
              "1  Cebolácio Menezes da Silva Júnior         8                   Verde\n",
              "2           Magali Fernandes de Lima         8                 Amarela\n",
              "3           Cássio Marques de Araújo         8                 Amarela\n",
              "0                            Horácio  66000001                     NaN\n",
              "1                         Papa-Capim         8                     NaN"
            ]
          },
          "metadata": {
            "tags": []
          },
          "execution_count": 37
        }
      ]
    },
    {
      "cell_type": "markdown",
      "metadata": {
        "id": "UKgtPz8AWLtG"
      },
      "source": [
        "### Substituição"
      ]
    },
    {
      "cell_type": "markdown",
      "metadata": {
        "id": "UXy8dHk_V_Hg"
      },
      "source": [
        "Até agora as únicas modificações reais que fizemos em `df` foram as adições de linhas e colunas. Todas as outras vezes que vimos um `DataFrame` modificado (por exemplo com `.apply`), por padrão, `pandas` não modifica o original mas cria uma cópia com as modificações.\n",
        "\n",
        "Caso deseje substituir `df` pelo novo `DataFrame` é necessário realizar a atribuição."
      ]
    },
    {
      "cell_type": "code",
      "metadata": {
        "colab": {
          "base_uri": "https://localhost:8080/"
        },
        "id": "Dg6_QvzfV-gn",
        "outputId": "2d2aab86-cc9e-4d1f-a61b-08d48ba0948d"
      },
      "source": [
        "df = df.apply(soma_um_na_idade, axis=1)\n",
        "df"
      ],
      "execution_count": null,
      "outputs": [
        {
          "output_type": "execute_result",
          "data": {
            "text/html": [
              "<div>\n",
              "<style scoped>\n",
              "    .dataframe tbody tr th:only-of-type {\n",
              "        vertical-align: middle;\n",
              "    }\n",
              "\n",
              "    .dataframe tbody tr th {\n",
              "        vertical-align: top;\n",
              "    }\n",
              "\n",
              "    .dataframe thead th {\n",
              "        text-align: right;\n",
              "    }\n",
              "</style>\n",
              "<table border=\"1\" class=\"dataframe\">\n",
              "  <thead>\n",
              "    <tr style=\"text-align: right;\">\n",
              "      <th></th>\n",
              "      <th>Nome</th>\n",
              "      <th>Idade</th>\n",
              "      <th>Cor da camiseta/vestido</th>\n",
              "    </tr>\n",
              "  </thead>\n",
              "  <tbody>\n",
              "    <tr>\n",
              "      <th>0</th>\n",
              "      <td>Mônica de Sousa</td>\n",
              "      <td>8</td>\n",
              "      <td>Vermelha</td>\n",
              "    </tr>\n",
              "    <tr>\n",
              "      <th>1</th>\n",
              "      <td>Cebolácio Menezes da Silva Júnior</td>\n",
              "      <td>8</td>\n",
              "      <td>Verde</td>\n",
              "    </tr>\n",
              "    <tr>\n",
              "      <th>2</th>\n",
              "      <td>Magali Fernandes de Lima</td>\n",
              "      <td>8</td>\n",
              "      <td>Amarela</td>\n",
              "    </tr>\n",
              "    <tr>\n",
              "      <th>3</th>\n",
              "      <td>Cássio Marques de Araújo</td>\n",
              "      <td>8</td>\n",
              "      <td>Amarela</td>\n",
              "    </tr>\n",
              "    <tr>\n",
              "      <th>0</th>\n",
              "      <td>Horácio</td>\n",
              "      <td>66000001</td>\n",
              "      <td>NaN</td>\n",
              "    </tr>\n",
              "    <tr>\n",
              "      <th>1</th>\n",
              "      <td>Papa-Capim</td>\n",
              "      <td>8</td>\n",
              "      <td>NaN</td>\n",
              "    </tr>\n",
              "  </tbody>\n",
              "</table>\n",
              "</div>"
            ],
            "text/plain": [
              "                                Nome     Idade Cor da camiseta/vestido\n",
              "0                    Mônica de Sousa         8                Vermelha\n",
              "1  Cebolácio Menezes da Silva Júnior         8                   Verde\n",
              "2           Magali Fernandes de Lima         8                 Amarela\n",
              "3           Cássio Marques de Araújo         8                 Amarela\n",
              "0                            Horácio  66000001                     NaN\n",
              "1                         Papa-Capim         8                     NaN"
            ]
          },
          "metadata": {
            "tags": []
          },
          "execution_count": 38
        }
      ]
    },
    {
      "cell_type": "markdown",
      "metadata": {
        "id": "ONqvut22XRWU"
      },
      "source": [
        "### Substituição de apenas uma coluna"
      ]
    },
    {
      "cell_type": "code",
      "metadata": {
        "colab": {
          "base_uri": "https://localhost:8080/"
        },
        "id": "gju3n2MOXaO9",
        "outputId": "e80f5338-fb34-46ba-b5e0-1995f6168e1e"
      },
      "source": [
        "df[\"Idade\"] = df[\"Idade\"].apply(soma_um)\n",
        "df"
      ],
      "execution_count": null,
      "outputs": [
        {
          "output_type": "execute_result",
          "data": {
            "text/html": [
              "<div>\n",
              "<style scoped>\n",
              "    .dataframe tbody tr th:only-of-type {\n",
              "        vertical-align: middle;\n",
              "    }\n",
              "\n",
              "    .dataframe tbody tr th {\n",
              "        vertical-align: top;\n",
              "    }\n",
              "\n",
              "    .dataframe thead th {\n",
              "        text-align: right;\n",
              "    }\n",
              "</style>\n",
              "<table border=\"1\" class=\"dataframe\">\n",
              "  <thead>\n",
              "    <tr style=\"text-align: right;\">\n",
              "      <th></th>\n",
              "      <th>Nome</th>\n",
              "      <th>Idade</th>\n",
              "      <th>Cor da camiseta/vestido</th>\n",
              "    </tr>\n",
              "  </thead>\n",
              "  <tbody>\n",
              "    <tr>\n",
              "      <th>0</th>\n",
              "      <td>Mônica de Sousa</td>\n",
              "      <td>9</td>\n",
              "      <td>Vermelha</td>\n",
              "    </tr>\n",
              "    <tr>\n",
              "      <th>1</th>\n",
              "      <td>Cebolácio Menezes da Silva Júnior</td>\n",
              "      <td>9</td>\n",
              "      <td>Verde</td>\n",
              "    </tr>\n",
              "    <tr>\n",
              "      <th>2</th>\n",
              "      <td>Magali Fernandes de Lima</td>\n",
              "      <td>9</td>\n",
              "      <td>Amarela</td>\n",
              "    </tr>\n",
              "    <tr>\n",
              "      <th>3</th>\n",
              "      <td>Cássio Marques de Araújo</td>\n",
              "      <td>9</td>\n",
              "      <td>Amarela</td>\n",
              "    </tr>\n",
              "    <tr>\n",
              "      <th>0</th>\n",
              "      <td>Horácio</td>\n",
              "      <td>66000002</td>\n",
              "      <td>NaN</td>\n",
              "    </tr>\n",
              "    <tr>\n",
              "      <th>1</th>\n",
              "      <td>Papa-Capim</td>\n",
              "      <td>9</td>\n",
              "      <td>NaN</td>\n",
              "    </tr>\n",
              "  </tbody>\n",
              "</table>\n",
              "</div>"
            ],
            "text/plain": [
              "                                Nome     Idade Cor da camiseta/vestido\n",
              "0                    Mônica de Sousa         9                Vermelha\n",
              "1  Cebolácio Menezes da Silva Júnior         9                   Verde\n",
              "2           Magali Fernandes de Lima         9                 Amarela\n",
              "3           Cássio Marques de Araújo         9                 Amarela\n",
              "0                            Horácio  66000002                     NaN\n",
              "1                         Papa-Capim         9                     NaN"
            ]
          },
          "metadata": {
            "tags": []
          },
          "execution_count": 39
        }
      ]
    },
    {
      "cell_type": "markdown",
      "metadata": {
        "id": "gJRsxrrbUBrP"
      },
      "source": [
        "## Importando e exportando\n",
        "\n",
        "Com `pandas` fica fácil consumir e criar dados tabelados de muitos formatos."
      ]
    },
    {
      "cell_type": "markdown",
      "metadata": {
        "id": "eJIw1r-IYEqE"
      },
      "source": [
        "### De `csv`"
      ]
    },
    {
      "cell_type": "code",
      "metadata": {
        "colab": {
          "base_uri": "https://localhost:8080/"
        },
        "id": "Tz1jIRC_YD8J",
        "outputId": "b7682628-0869-4588-ef58-1de156e8a571"
      },
      "source": [
        "import csv\n",
        "\n",
        "with open(\"data.csv\", \"w\") as csvfile:\n",
        "    csvwriter = csv.writer(csvfile)\n",
        "    csvwriter.writerow([\"Torta\", \"Nota\"])\n",
        "    csvwriter.writerow([\"Torta Alemã\", \"9\"])\n",
        "    csvwriter.writerow([\"Torta de Frango\", \"8\"])\n",
        "    csvwriter.writerow([\"Torta de Chuchu\", \"-291\"])\n",
        "\n",
        "df_tortas = pd.read_csv(\"data.csv\")\n",
        "df_tortas"
      ],
      "execution_count": null,
      "outputs": [
        {
          "output_type": "execute_result",
          "data": {
            "text/html": [
              "<div>\n",
              "<style scoped>\n",
              "    .dataframe tbody tr th:only-of-type {\n",
              "        vertical-align: middle;\n",
              "    }\n",
              "\n",
              "    .dataframe tbody tr th {\n",
              "        vertical-align: top;\n",
              "    }\n",
              "\n",
              "    .dataframe thead th {\n",
              "        text-align: right;\n",
              "    }\n",
              "</style>\n",
              "<table border=\"1\" class=\"dataframe\">\n",
              "  <thead>\n",
              "    <tr style=\"text-align: right;\">\n",
              "      <th></th>\n",
              "      <th>Torta</th>\n",
              "      <th>Nota</th>\n",
              "    </tr>\n",
              "  </thead>\n",
              "  <tbody>\n",
              "    <tr>\n",
              "      <th>0</th>\n",
              "      <td>Torta Alemã</td>\n",
              "      <td>9</td>\n",
              "    </tr>\n",
              "    <tr>\n",
              "      <th>1</th>\n",
              "      <td>Torta de Frango</td>\n",
              "      <td>8</td>\n",
              "    </tr>\n",
              "    <tr>\n",
              "      <th>2</th>\n",
              "      <td>Torta de Chuchu</td>\n",
              "      <td>-291</td>\n",
              "    </tr>\n",
              "  </tbody>\n",
              "</table>\n",
              "</div>"
            ],
            "text/plain": [
              "             Torta  Nota\n",
              "0      Torta Alemã     9\n",
              "1  Torta de Frango     8\n",
              "2  Torta de Chuchu  -291"
            ]
          },
          "metadata": {
            "tags": []
          },
          "execution_count": 40
        }
      ]
    },
    {
      "cell_type": "markdown",
      "metadata": {
        "id": "IBOBtR9iYHSF"
      },
      "source": [
        "### Para `parquet`"
      ]
    },
    {
      "cell_type": "code",
      "metadata": {
        "id": "NIgBwQ7zUqho"
      },
      "source": [
        "df_tortas.to_parquet('data.parquet')"
      ],
      "execution_count": null,
      "outputs": []
    },
    {
      "cell_type": "markdown",
      "metadata": {
        "id": "uDcp9WDrbEcX"
      },
      "source": [
        "## Finalizando"
      ]
    },
    {
      "cell_type": "markdown",
      "metadata": {
        "id": "lVNcukZNbMBx"
      },
      "source": [
        "Não é nada de finalizar `DataFrame`!\n",
        "\n",
        "Este tutorial que está encerrando... mas encorajamos você a continuar brincando e se familizariando com `pandas`. É legal, confia :)"
      ]
    }
  ]
}